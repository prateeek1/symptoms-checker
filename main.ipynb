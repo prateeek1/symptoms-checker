{
 "cells": [
  {
   "cell_type": "code",
   "execution_count": 2,
   "metadata": {},
   "outputs": [],
   "source": [
    "import pandas as pd\n",
    "import numpy as np"
   ]
  },
  {
   "cell_type": "code",
   "execution_count": 3,
   "metadata": {},
   "outputs": [],
   "source": [
    "df=pd.read_csv('./dataset.csv')"
   ]
  },
  {
   "cell_type": "code",
   "execution_count": 4,
   "metadata": {},
   "outputs": [
    {
     "data": {
      "text/html": [
       "<div>\n",
       "<style scoped>\n",
       "    .dataframe tbody tr th:only-of-type {\n",
       "        vertical-align: middle;\n",
       "    }\n",
       "\n",
       "    .dataframe tbody tr th {\n",
       "        vertical-align: top;\n",
       "    }\n",
       "\n",
       "    .dataframe thead th {\n",
       "        text-align: right;\n",
       "    }\n",
       "</style>\n",
       "<table border=\"1\" class=\"dataframe\">\n",
       "  <thead>\n",
       "    <tr style=\"text-align: right;\">\n",
       "      <th></th>\n",
       "      <th>Disease</th>\n",
       "      <th>Symptom_1</th>\n",
       "      <th>Symptom_2</th>\n",
       "      <th>Symptom_3</th>\n",
       "      <th>Symptom_4</th>\n",
       "      <th>Symptom_5</th>\n",
       "      <th>Symptom_6</th>\n",
       "      <th>Symptom_7</th>\n",
       "      <th>Symptom_8</th>\n",
       "      <th>Symptom_9</th>\n",
       "      <th>Symptom_10</th>\n",
       "      <th>Symptom_11</th>\n",
       "      <th>Symptom_12</th>\n",
       "      <th>Symptom_13</th>\n",
       "      <th>Symptom_14</th>\n",
       "      <th>Symptom_15</th>\n",
       "      <th>Symptom_16</th>\n",
       "      <th>Symptom_17</th>\n",
       "    </tr>\n",
       "  </thead>\n",
       "  <tbody>\n",
       "    <tr>\n",
       "      <th>0</th>\n",
       "      <td>Fungal infection</td>\n",
       "      <td>itching</td>\n",
       "      <td>skin_rash</td>\n",
       "      <td>nodal_skin_eruptions</td>\n",
       "      <td>dischromic _patches</td>\n",
       "      <td>NaN</td>\n",
       "      <td>NaN</td>\n",
       "      <td>NaN</td>\n",
       "      <td>NaN</td>\n",
       "      <td>NaN</td>\n",
       "      <td>NaN</td>\n",
       "      <td>NaN</td>\n",
       "      <td>NaN</td>\n",
       "      <td>NaN</td>\n",
       "      <td>NaN</td>\n",
       "      <td>NaN</td>\n",
       "      <td>NaN</td>\n",
       "      <td>NaN</td>\n",
       "    </tr>\n",
       "    <tr>\n",
       "      <th>1</th>\n",
       "      <td>Fungal infection</td>\n",
       "      <td>skin_rash</td>\n",
       "      <td>nodal_skin_eruptions</td>\n",
       "      <td>dischromic _patches</td>\n",
       "      <td>NaN</td>\n",
       "      <td>NaN</td>\n",
       "      <td>NaN</td>\n",
       "      <td>NaN</td>\n",
       "      <td>NaN</td>\n",
       "      <td>NaN</td>\n",
       "      <td>NaN</td>\n",
       "      <td>NaN</td>\n",
       "      <td>NaN</td>\n",
       "      <td>NaN</td>\n",
       "      <td>NaN</td>\n",
       "      <td>NaN</td>\n",
       "      <td>NaN</td>\n",
       "      <td>NaN</td>\n",
       "    </tr>\n",
       "    <tr>\n",
       "      <th>2</th>\n",
       "      <td>Fungal infection</td>\n",
       "      <td>itching</td>\n",
       "      <td>nodal_skin_eruptions</td>\n",
       "      <td>dischromic _patches</td>\n",
       "      <td>NaN</td>\n",
       "      <td>NaN</td>\n",
       "      <td>NaN</td>\n",
       "      <td>NaN</td>\n",
       "      <td>NaN</td>\n",
       "      <td>NaN</td>\n",
       "      <td>NaN</td>\n",
       "      <td>NaN</td>\n",
       "      <td>NaN</td>\n",
       "      <td>NaN</td>\n",
       "      <td>NaN</td>\n",
       "      <td>NaN</td>\n",
       "      <td>NaN</td>\n",
       "      <td>NaN</td>\n",
       "    </tr>\n",
       "    <tr>\n",
       "      <th>3</th>\n",
       "      <td>Fungal infection</td>\n",
       "      <td>itching</td>\n",
       "      <td>skin_rash</td>\n",
       "      <td>dischromic _patches</td>\n",
       "      <td>NaN</td>\n",
       "      <td>NaN</td>\n",
       "      <td>NaN</td>\n",
       "      <td>NaN</td>\n",
       "      <td>NaN</td>\n",
       "      <td>NaN</td>\n",
       "      <td>NaN</td>\n",
       "      <td>NaN</td>\n",
       "      <td>NaN</td>\n",
       "      <td>NaN</td>\n",
       "      <td>NaN</td>\n",
       "      <td>NaN</td>\n",
       "      <td>NaN</td>\n",
       "      <td>NaN</td>\n",
       "    </tr>\n",
       "    <tr>\n",
       "      <th>4</th>\n",
       "      <td>Fungal infection</td>\n",
       "      <td>itching</td>\n",
       "      <td>skin_rash</td>\n",
       "      <td>nodal_skin_eruptions</td>\n",
       "      <td>NaN</td>\n",
       "      <td>NaN</td>\n",
       "      <td>NaN</td>\n",
       "      <td>NaN</td>\n",
       "      <td>NaN</td>\n",
       "      <td>NaN</td>\n",
       "      <td>NaN</td>\n",
       "      <td>NaN</td>\n",
       "      <td>NaN</td>\n",
       "      <td>NaN</td>\n",
       "      <td>NaN</td>\n",
       "      <td>NaN</td>\n",
       "      <td>NaN</td>\n",
       "      <td>NaN</td>\n",
       "    </tr>\n",
       "  </tbody>\n",
       "</table>\n",
       "</div>"
      ],
      "text/plain": [
       "            Disease   Symptom_1              Symptom_2              Symptom_3  \\\n",
       "0  Fungal infection     itching              skin_rash   nodal_skin_eruptions   \n",
       "1  Fungal infection   skin_rash   nodal_skin_eruptions    dischromic _patches   \n",
       "2  Fungal infection     itching   nodal_skin_eruptions    dischromic _patches   \n",
       "3  Fungal infection     itching              skin_rash    dischromic _patches   \n",
       "4  Fungal infection     itching              skin_rash   nodal_skin_eruptions   \n",
       "\n",
       "              Symptom_4 Symptom_5 Symptom_6 Symptom_7 Symptom_8 Symptom_9  \\\n",
       "0   dischromic _patches       NaN       NaN       NaN       NaN       NaN   \n",
       "1                   NaN       NaN       NaN       NaN       NaN       NaN   \n",
       "2                   NaN       NaN       NaN       NaN       NaN       NaN   \n",
       "3                   NaN       NaN       NaN       NaN       NaN       NaN   \n",
       "4                   NaN       NaN       NaN       NaN       NaN       NaN   \n",
       "\n",
       "  Symptom_10 Symptom_11 Symptom_12 Symptom_13 Symptom_14 Symptom_15  \\\n",
       "0        NaN        NaN        NaN        NaN        NaN        NaN   \n",
       "1        NaN        NaN        NaN        NaN        NaN        NaN   \n",
       "2        NaN        NaN        NaN        NaN        NaN        NaN   \n",
       "3        NaN        NaN        NaN        NaN        NaN        NaN   \n",
       "4        NaN        NaN        NaN        NaN        NaN        NaN   \n",
       "\n",
       "  Symptom_16 Symptom_17  \n",
       "0        NaN        NaN  \n",
       "1        NaN        NaN  \n",
       "2        NaN        NaN  \n",
       "3        NaN        NaN  \n",
       "4        NaN        NaN  "
      ]
     },
     "execution_count": 4,
     "metadata": {},
     "output_type": "execute_result"
    }
   ],
   "source": [
    "df.head()"
   ]
  },
  {
   "cell_type": "code",
   "execution_count": 5,
   "metadata": {},
   "outputs": [
    {
     "data": {
      "text/plain": [
       "4920"
      ]
     },
     "execution_count": 5,
     "metadata": {},
     "output_type": "execute_result"
    }
   ],
   "source": [
    "len(df)"
   ]
  },
  {
   "cell_type": "code",
   "execution_count": 6,
   "metadata": {},
   "outputs": [],
   "source": [
    "unique=[]\n",
    "for i in range(0,4920):\n",
    "    row=np.asarray(df[i:i+1])\n",
    "    for i in range(1,len(row[0])):\n",
    "        if(pd.isna(row[0][i])):\n",
    "            break\n",
    "        row[0][i]=row[0][i].replace('_',' ')\n",
    "        if row[0][i] not in unique:\n",
    "            unique.append(row[0][i])"
   ]
  },
  {
   "cell_type": "code",
   "execution_count": 7,
   "metadata": {
    "scrolled": false
   },
   "outputs": [
    {
     "name": "stdout",
     "output_type": "stream",
     "text": [
      "['abdominal pain', 'abnormal menstruation', 'acidity', 'acute liver failure', 'altered sensorium', 'anxiety', 'back pain', 'belly pain', 'blackheads', 'bladder discomfort', 'blister', 'blood in sputum', 'bloody stool', 'blurred and distorted vision', 'breathlessness', 'brittle nails', 'bruising', 'burning micturition', 'chest pain', 'chills', 'cold hands and feets', 'coma', 'congestion', 'constipation', 'continuous feel of urine', 'continuous sneezing', 'cough', 'cramps', 'dark urine', 'dehydration', 'depression', 'diarrhoea', 'dischromic  patches', 'distention of abdomen', 'dizziness', 'drying and tingling lips', 'enlarged thyroid', 'excessive hunger', 'extra marital contacts', 'family history', 'fast heart rate', 'fatigue', 'fluid overload', 'foul smell of urine', 'headache', 'high fever', 'hip joint pain', 'history of alcohol consumption', 'increased appetite', 'indigestion', 'inflammatory nails', 'internal itching', 'irregular sugar level', 'irritability', 'irritation in anus', 'itching', 'joint pain', 'knee pain', 'lack of concentration', 'lethargy', 'loss of appetite', 'loss of balance', 'loss of smell', 'malaise', 'mild fever', 'mood swings', 'movement stiffness', 'mucoid sputum', 'muscle pain', 'muscle wasting', 'muscle weakness', 'nausea', 'neck pain', 'nodal skin eruptions', 'obesity', 'pain behind the eyes', 'pain during bowel movements', 'pain in anal region', 'painful walking', 'palpitations', 'passage of gases', 'patches in throat', 'phlegm', 'polyuria', 'prominent veins on calf', 'puffy face and eyes', 'pus filled pimples', 'receiving blood transfusion', 'receiving unsterile injections', 'red sore around nose', 'red spots over body', 'redness of eyes', 'restlessness', 'runny nose', 'rusty sputum', 'scurring', 'shivering', 'silver like dusting', 'sinus pressure', 'skin peeling', 'skin rash', 'slurred speech', 'small dents in nails', 'spinning movements', 'spotting  urination', 'stiff neck', 'stomach bleeding', 'stomach pain', 'sunken eyes', 'sweating', 'swelled lymph nodes', 'swelling joints', 'swelling of stomach', 'swollen blood vessels', 'swollen extremeties', 'swollen legs', 'throat irritation', 'toxic look (typhos)', 'ulcers on tongue', 'unsteadiness', 'visual disturbances', 'vomiting', 'watering from eyes', 'weakness in limbs', 'weakness of one body side', 'weight gain', 'weight loss', 'yellow crust ooze', 'yellow urine', 'yellowing of eyes', 'yellowish skin']\n"
     ]
    }
   ],
   "source": [
    "\n",
    "for i in range(0,len(unique)):\n",
    "    unique[i]=unique[i].strip()\n",
    "unique.sort()\n",
    "print(unique)"
   ]
  },
  {
   "cell_type": "code",
   "execution_count": 25,
   "metadata": {},
   "outputs": [],
   "source": []
  },
  {
   "cell_type": "code",
   "execution_count": 45,
   "metadata": {},
   "outputs": [
    {
     "data": {
      "text/html": [
       "<div>\n",
       "<style scoped>\n",
       "    .dataframe tbody tr th:only-of-type {\n",
       "        vertical-align: middle;\n",
       "    }\n",
       "\n",
       "    .dataframe tbody tr th {\n",
       "        vertical-align: top;\n",
       "    }\n",
       "\n",
       "    .dataframe thead th {\n",
       "        text-align: right;\n",
       "    }\n",
       "</style>\n",
       "<table border=\"1\" class=\"dataframe\">\n",
       "  <thead>\n",
       "    <tr style=\"text-align: right;\">\n",
       "      <th></th>\n",
       "      <th>itching</th>\n",
       "      <th>skin rash</th>\n",
       "      <th>nodal skin eruptions</th>\n",
       "      <th>dischromic  patches</th>\n",
       "      <th>continuous sneezing</th>\n",
       "      <th>shivering</th>\n",
       "      <th>chills</th>\n",
       "      <th>watering from eyes</th>\n",
       "      <th>stomach pain</th>\n",
       "      <th>acidity</th>\n",
       "      <th>...</th>\n",
       "      <th>bladder discomfort</th>\n",
       "      <th>foul smell of urine</th>\n",
       "      <th>continuous feel of urine</th>\n",
       "      <th>skin peeling</th>\n",
       "      <th>silver like dusting</th>\n",
       "      <th>small dents in nails</th>\n",
       "      <th>inflammatory nails</th>\n",
       "      <th>blister</th>\n",
       "      <th>red sore around nose</th>\n",
       "      <th>yellow crust ooze</th>\n",
       "    </tr>\n",
       "  </thead>\n",
       "  <tbody>\n",
       "  </tbody>\n",
       "</table>\n",
       "<p>0 rows × 131 columns</p>\n",
       "</div>"
      ],
      "text/plain": [
       "Empty DataFrame\n",
       "Columns: [itching,  skin rash,  nodal skin eruptions,  dischromic  patches,  continuous sneezing,  shivering,  chills,  watering from eyes,  stomach pain,  acidity,  ulcers on tongue,  vomiting,  cough,  chest pain,  yellowish skin,  nausea,  loss of appetite,  abdominal pain,  yellowing of eyes,  burning micturition,  spotting  urination,  passage of gases,  internal itching,  indigestion,  muscle wasting,  patches in throat,  high fever,  extra marital contacts,  fatigue,  weight loss,  restlessness,  lethargy,  irregular sugar level,  blurred and distorted vision,  obesity,  excessive hunger,  increased appetite,  polyuria,  sunken eyes,  dehydration,  diarrhoea,  breathlessness,  family history,  mucoid sputum,  headache,  dizziness,  loss of balance,  lack of concentration,  stiff neck,  depression,  irritability,  visual disturbances,  back pain,  weakness in limbs,  neck pain,  weakness of one body side,  altered sensorium,  dark urine,  sweating,  muscle pain,  mild fever,  swelled lymph nodes,  malaise,  red spots over body,  joint pain,  pain behind the eyes,  constipation,  toxic look (typhos),  belly pain,  yellow urine,  receiving blood transfusion,  receiving unsterile injections,  coma,  stomach bleeding,  acute liver failure,  swelling of stomach,  distention of abdomen,  history of alcohol consumption,  fluid overload,  phlegm,  blood in sputum,  throat irritation,  redness of eyes,  sinus pressure,  runny nose,  congestion,  loss of smell,  fast heart rate,  rusty sputum,  pain during bowel movements,  pain in anal region,  bloody stool,  irritation in anus,  cramps,  bruising,  swollen legs,  swollen blood vessels,  prominent veins on calf,  weight gain,  cold hands and feets, ...]\n",
       "Index: []\n",
       "\n",
       "[0 rows x 131 columns]"
      ]
     },
     "execution_count": 45,
     "metadata": {},
     "output_type": "execute_result"
    }
   ],
   "source": [
    "df_upd = pd.DataFrame(columns = unique)\n",
    "df_upd.head()"
   ]
  },
  {
   "cell_type": "code",
   "execution_count": 55,
   "metadata": {},
   "outputs": [],
   "source": [
    "df_upd=df_upd.astype('int')"
   ]
  },
  {
   "cell_type": "code",
   "execution_count": 29,
   "metadata": {},
   "outputs": [],
   "source": [
    "# from sklearn.preprocessing import LabelEncoder\n",
    "# from sklearn.preprocessing import OneHotEncoder\n",
    "\n",
    "# label_encoder = LabelEncoder()\n",
    "# integer_encoded = label_encoder.fit_transform(unique)\n",
    "# print(integer_encoded)"
   ]
  },
  {
   "cell_type": "code",
   "execution_count": 30,
   "metadata": {},
   "outputs": [],
   "source": [
    "# onehot_encoder = OneHotEncoder(sparse=False)\n",
    "# integer_encoded = integer_encoded.reshape(len(integer_encoded), 1)\n",
    "# onehot_encoded = onehot_encoder.fit_transform(integer_encoded)\n",
    "# print(onehot_encoded[1])"
   ]
  },
  {
   "cell_type": "code",
   "execution_count": 56,
   "metadata": {},
   "outputs": [],
   "source": [
    "disease=[]\n",
    "for i in range(0,4920):\n",
    "    row=np.asarray(df[i:i+1])\n",
    "    col=[0]*131\n",
    "    symptom=[]\n",
    "    disease.append(row[0][0])\n",
    "    for j in range(1,len(row[0])):\n",
    "        if(pd.isna(row[0][j])):\n",
    "            break\n",
    "        symptom.append(row[0][j])\n",
    "    for j in range(0,len(unique)):\n",
    "        if unique[j] in symptom:\n",
    "            col[j]=1\n",
    "            \n",
    "    df_upd.loc[i]=col\n",
    "    "
   ]
  },
  {
   "cell_type": "code",
   "execution_count": 57,
   "metadata": {},
   "outputs": [
    {
     "name": "stdout",
     "output_type": "stream",
     "text": [
      "                                            0\n",
      "0                            Fungal infection\n",
      "1                            Fungal infection\n",
      "2                            Fungal infection\n",
      "3                            Fungal infection\n",
      "4                            Fungal infection\n",
      "...                                       ...\n",
      "4915  (vertigo) Paroymsal  Positional Vertigo\n",
      "4916                                     Acne\n",
      "4917                  Urinary tract infection\n",
      "4918                                Psoriasis\n",
      "4919                                 Impetigo\n",
      "\n",
      "[4920 rows x 1 columns]\n"
     ]
    }
   ],
   "source": [
    "df_disease=pd.DataFrame(disease)\n",
    "print(df_disease)"
   ]
  },
  {
   "cell_type": "code",
   "execution_count": 60,
   "metadata": {},
   "outputs": [
    {
     "data": {
      "text/html": [
       "<div>\n",
       "<style scoped>\n",
       "    .dataframe tbody tr th:only-of-type {\n",
       "        vertical-align: middle;\n",
       "    }\n",
       "\n",
       "    .dataframe tbody tr th {\n",
       "        vertical-align: top;\n",
       "    }\n",
       "\n",
       "    .dataframe thead th {\n",
       "        text-align: right;\n",
       "    }\n",
       "</style>\n",
       "<table border=\"1\" class=\"dataframe\">\n",
       "  <thead>\n",
       "    <tr style=\"text-align: right;\">\n",
       "      <th></th>\n",
       "      <th>0</th>\n",
       "      <th>itching</th>\n",
       "      <th>skin rash</th>\n",
       "      <th>nodal skin eruptions</th>\n",
       "      <th>dischromic  patches</th>\n",
       "      <th>continuous sneezing</th>\n",
       "      <th>shivering</th>\n",
       "      <th>chills</th>\n",
       "      <th>watering from eyes</th>\n",
       "      <th>stomach pain</th>\n",
       "      <th>...</th>\n",
       "      <th>bladder discomfort</th>\n",
       "      <th>foul smell of urine</th>\n",
       "      <th>continuous feel of urine</th>\n",
       "      <th>skin peeling</th>\n",
       "      <th>silver like dusting</th>\n",
       "      <th>small dents in nails</th>\n",
       "      <th>inflammatory nails</th>\n",
       "      <th>blister</th>\n",
       "      <th>red sore around nose</th>\n",
       "      <th>yellow crust ooze</th>\n",
       "    </tr>\n",
       "  </thead>\n",
       "  <tbody>\n",
       "    <tr>\n",
       "      <th>0</th>\n",
       "      <td>Fungal infection</td>\n",
       "      <td>1</td>\n",
       "      <td>1</td>\n",
       "      <td>1</td>\n",
       "      <td>1</td>\n",
       "      <td>0</td>\n",
       "      <td>0</td>\n",
       "      <td>0</td>\n",
       "      <td>0</td>\n",
       "      <td>0</td>\n",
       "      <td>...</td>\n",
       "      <td>0</td>\n",
       "      <td>0</td>\n",
       "      <td>0</td>\n",
       "      <td>0</td>\n",
       "      <td>0</td>\n",
       "      <td>0</td>\n",
       "      <td>0</td>\n",
       "      <td>0</td>\n",
       "      <td>0</td>\n",
       "      <td>0</td>\n",
       "    </tr>\n",
       "    <tr>\n",
       "      <th>1</th>\n",
       "      <td>Fungal infection</td>\n",
       "      <td>0</td>\n",
       "      <td>1</td>\n",
       "      <td>1</td>\n",
       "      <td>1</td>\n",
       "      <td>0</td>\n",
       "      <td>0</td>\n",
       "      <td>0</td>\n",
       "      <td>0</td>\n",
       "      <td>0</td>\n",
       "      <td>...</td>\n",
       "      <td>0</td>\n",
       "      <td>0</td>\n",
       "      <td>0</td>\n",
       "      <td>0</td>\n",
       "      <td>0</td>\n",
       "      <td>0</td>\n",
       "      <td>0</td>\n",
       "      <td>0</td>\n",
       "      <td>0</td>\n",
       "      <td>0</td>\n",
       "    </tr>\n",
       "    <tr>\n",
       "      <th>2</th>\n",
       "      <td>Fungal infection</td>\n",
       "      <td>1</td>\n",
       "      <td>0</td>\n",
       "      <td>1</td>\n",
       "      <td>1</td>\n",
       "      <td>0</td>\n",
       "      <td>0</td>\n",
       "      <td>0</td>\n",
       "      <td>0</td>\n",
       "      <td>0</td>\n",
       "      <td>...</td>\n",
       "      <td>0</td>\n",
       "      <td>0</td>\n",
       "      <td>0</td>\n",
       "      <td>0</td>\n",
       "      <td>0</td>\n",
       "      <td>0</td>\n",
       "      <td>0</td>\n",
       "      <td>0</td>\n",
       "      <td>0</td>\n",
       "      <td>0</td>\n",
       "    </tr>\n",
       "    <tr>\n",
       "      <th>3</th>\n",
       "      <td>Fungal infection</td>\n",
       "      <td>1</td>\n",
       "      <td>1</td>\n",
       "      <td>0</td>\n",
       "      <td>1</td>\n",
       "      <td>0</td>\n",
       "      <td>0</td>\n",
       "      <td>0</td>\n",
       "      <td>0</td>\n",
       "      <td>0</td>\n",
       "      <td>...</td>\n",
       "      <td>0</td>\n",
       "      <td>0</td>\n",
       "      <td>0</td>\n",
       "      <td>0</td>\n",
       "      <td>0</td>\n",
       "      <td>0</td>\n",
       "      <td>0</td>\n",
       "      <td>0</td>\n",
       "      <td>0</td>\n",
       "      <td>0</td>\n",
       "    </tr>\n",
       "    <tr>\n",
       "      <th>4</th>\n",
       "      <td>Fungal infection</td>\n",
       "      <td>1</td>\n",
       "      <td>1</td>\n",
       "      <td>1</td>\n",
       "      <td>0</td>\n",
       "      <td>0</td>\n",
       "      <td>0</td>\n",
       "      <td>0</td>\n",
       "      <td>0</td>\n",
       "      <td>0</td>\n",
       "      <td>...</td>\n",
       "      <td>0</td>\n",
       "      <td>0</td>\n",
       "      <td>0</td>\n",
       "      <td>0</td>\n",
       "      <td>0</td>\n",
       "      <td>0</td>\n",
       "      <td>0</td>\n",
       "      <td>0</td>\n",
       "      <td>0</td>\n",
       "      <td>0</td>\n",
       "    </tr>\n",
       "  </tbody>\n",
       "</table>\n",
       "<p>5 rows × 132 columns</p>\n",
       "</div>"
      ],
      "text/plain": [
       "                  0  itching   skin rash   nodal skin eruptions  \\\n",
       "0  Fungal infection        1           1                      1   \n",
       "1  Fungal infection        0           1                      1   \n",
       "2  Fungal infection        1           0                      1   \n",
       "3  Fungal infection        1           1                      0   \n",
       "4  Fungal infection        1           1                      1   \n",
       "\n",
       "    dischromic  patches   continuous sneezing   shivering   chills  \\\n",
       "0                     1                     0           0        0   \n",
       "1                     1                     0           0        0   \n",
       "2                     1                     0           0        0   \n",
       "3                     1                     0           0        0   \n",
       "4                     0                     0           0        0   \n",
       "\n",
       "    watering from eyes   stomach pain  ...   bladder discomfort  \\\n",
       "0                    0              0  ...                    0   \n",
       "1                    0              0  ...                    0   \n",
       "2                    0              0  ...                    0   \n",
       "3                    0              0  ...                    0   \n",
       "4                    0              0  ...                    0   \n",
       "\n",
       "    foul smell of urine   continuous feel of urine   skin peeling  \\\n",
       "0                     0                          0              0   \n",
       "1                     0                          0              0   \n",
       "2                     0                          0              0   \n",
       "3                     0                          0              0   \n",
       "4                     0                          0              0   \n",
       "\n",
       "    silver like dusting   small dents in nails   inflammatory nails   blister  \\\n",
       "0                     0                      0                    0         0   \n",
       "1                     0                      0                    0         0   \n",
       "2                     0                      0                    0         0   \n",
       "3                     0                      0                    0         0   \n",
       "4                     0                      0                    0         0   \n",
       "\n",
       "    red sore around nose   yellow crust ooze  \n",
       "0                      0                   0  \n",
       "1                      0                   0  \n",
       "2                      0                   0  \n",
       "3                      0                   0  \n",
       "4                      0                   0  \n",
       "\n",
       "[5 rows x 132 columns]"
      ]
     },
     "execution_count": 60,
     "metadata": {},
     "output_type": "execute_result"
    }
   ],
   "source": [
    "df_concat = pd.concat([df_disease,df_upd], axis=1)\n",
    "df_concat.drop_duplicates(keep='first',inplace=True)\n",
    "df_concat.head()"
   ]
  },
  {
   "cell_type": "code",
   "execution_count": 59,
   "metadata": {},
   "outputs": [
    {
     "name": "stdout",
     "output_type": "stream",
     "text": [
      "0                        object\n",
      "itching                   int32\n",
      " skin rash                int32\n",
      " nodal skin eruptions     int32\n",
      " dischromic  patches      int32\n",
      "                          ...  \n",
      " small dents in nails     int32\n",
      " inflammatory nails       int32\n",
      " blister                  int32\n",
      " red sore around nose     int32\n",
      " yellow crust ooze        int32\n",
      "Length: 132, dtype: object\n"
     ]
    }
   ],
   "source": [
    "print(df_concat.dtypes)"
   ]
  },
  {
   "cell_type": "code",
   "execution_count": null,
   "metadata": {},
   "outputs": [],
   "source": []
  },
  {
   "cell_type": "code",
   "execution_count": 61,
   "metadata": {},
   "outputs": [],
   "source": [
    "Y=df_concat[0]\n",
    "X=df_concat[unique]"
   ]
  },
  {
   "cell_type": "code",
   "execution_count": 62,
   "metadata": {},
   "outputs": [],
   "source": [
    "from sklearn.model_selection import train_test_split"
   ]
  },
  {
   "cell_type": "code",
   "execution_count": 63,
   "metadata": {},
   "outputs": [],
   "source": [
    "x_train, x_test, y_train, y_test = train_test_split(X, Y, test_size=0.2, random_state=101)"
   ]
  },
  {
   "cell_type": "code",
   "execution_count": 64,
   "metadata": {},
   "outputs": [
    {
     "data": {
      "text/plain": [
       "(243, 243)"
      ]
     },
     "execution_count": 64,
     "metadata": {},
     "output_type": "execute_result"
    }
   ],
   "source": [
    "len(x_train), len(y_train)"
   ]
  },
  {
   "cell_type": "code",
   "execution_count": 65,
   "metadata": {},
   "outputs": [
    {
     "data": {
      "text/plain": [
       "(61, 61)"
      ]
     },
     "execution_count": 65,
     "metadata": {},
     "output_type": "execute_result"
    }
   ],
   "source": [
    "len(x_test), len(y_test)"
   ]
  },
  {
   "cell_type": "code",
   "execution_count": null,
   "metadata": {},
   "outputs": [],
   "source": [
    "from decimal import Decimal\n",
    "from sklearn.metrics import accuracy_score"
   ]
  },
  {
   "cell_type": "code",
   "execution_count": 69,
   "metadata": {},
   "outputs": [
    {
     "name": "stdout",
     "output_type": "stream",
     "text": [
      "67.21\n"
     ]
    }
   ],
   "source": [
    "from sklearn.tree import DecisionTreeClassifier\n",
    "dt = DecisionTreeClassifier()\n",
    "clf_dt=dt.fit(x_train,y_train)\n",
    "clf = clf_dt.predict(x_test)\n",
    "acc_mnb = round(Decimal(accuracy_score(y_test, clf) * 100), 2)\n",
    "print(acc_mnb)"
   ]
  },
  {
   "cell_type": "code",
   "execution_count": 76,
   "metadata": {},
   "outputs": [
    {
     "name": "stdout",
     "output_type": "stream",
     "text": [
      "88.52\n"
     ]
    }
   ],
   "source": [
    "from sklearn.naive_bayes import MultinomialNB\n",
    "mnb = MultinomialNB()\n",
    "mnb = mnb.fit(x_train, y_train)\n",
    "mnb_pred = mnb.predict(x_test)\n",
    "acc_mnb = round(Decimal(accuracy_score(y_test, mnb_pred) * 100), 2)\n",
    "print(acc_mnb)"
   ]
  },
  {
   "cell_type": "code",
   "execution_count": 80,
   "metadata": {},
   "outputs": [
    {
     "name": "stdout",
     "output_type": "stream",
     "text": [
      "100.00\n"
     ]
    }
   ],
   "source": [
    "from sklearn.ensemble import RandomForestClassifier\n",
    "rfc=RandomForestClassifier()\n",
    "rfc=rfc.fit(x_train,y_train)\n",
    "rfc_pred=rfc.predict(x_test)\n",
    "acc_rfc = round(Decimal(accuracy_score(y_test, rfc_pred) * 100), 2)\n",
    "print(acc_rfc)"
   ]
  },
  {
   "cell_type": "code",
   "execution_count": 28,
   "metadata": {},
   "outputs": [
    {
     "data": {
      "text/plain": [
       "'Urinary tract infection'"
      ]
     },
     "execution_count": 28,
     "metadata": {},
     "output_type": "execute_result"
    }
   ],
   "source": [
    "input=[0]*131\n",
    "input[121]=1\n",
    "res=rfc.predict([input])\n",
    "res[0]"
   ]
  },
  {
   "cell_type": "code",
   "execution_count": 31,
   "metadata": {},
   "outputs": [],
   "source": [
    "dff=pd.read_csv('./symptom_description.csv')"
   ]
  },
  {
   "cell_type": "code",
   "execution_count": 32,
   "metadata": {},
   "outputs": [],
   "source": [
    "dff.head()\n",
    "desc={}\n",
    "for i in range(0,len(dff)):\n",
    "    desc[dff['Disease'][i]]=dff['Description'][i]"
   ]
  },
  {
   "cell_type": "code",
   "execution_count": 33,
   "metadata": {},
   "outputs": [
    {
     "name": "stdout",
     "output_type": "stream",
     "text": [
      "{'Drug Reaction': 'An adverse drug reaction (ADR) is an injury caused by taking medication. ADRs may occur following a single dose or prolonged administration of a drug or result from the combination of two or more drugs.', 'Malaria': 'An infectious disease caused by protozoan parasites from the Plasmodium family that can be transmitted by the bite of the Anopheles mosquito or by a contaminated needle or transfusion. Falciparum malaria is the most deadly type.', 'Allergy': \"An allergy is an immune system response to a foreign substance that's not typically harmful to your body.They can include certain foods, pollen, or pet dander. Your immune system's job is to keep you healthy by fighting harmful pathogens.\", 'Hypothyroidism': 'Hypothyroidism, also called underactive thyroid or low thyroid, is a disorder of the endocrine system in which the thyroid gland does not produce enough thyroid hormone.', 'Psoriasis': \"Psoriasis is a common skin disorder that forms thick, red, bumpy patches covered with silvery scales. They can pop up anywhere, but most appear on the scalp, elbows, knees, and lower back. Psoriasis can't be passed from person to person. It does sometimes happen in members of the same family.\", 'GERD': 'Gastroesophageal reflux disease, or GERD, is a digestive disorder that affects the lower esophageal sphincter (LES), the ring of muscle between the esophagus and stomach. Many people, including pregnant women, suffer from heartburn or acid indigestion caused by GERD.', 'Chronic cholestasis': 'Chronic cholestatic diseases, whether occurring in infancy, childhood or adulthood, are characterized by defective bile acid transport from the liver to the intestine, which is caused by primary damage to the biliary epithelium in most cases', 'hepatitis A': \"Hepatitis A is a highly contagious liver infection caused by the hepatitis A virus. The virus is one of several types of hepatitis viruses that cause inflammation and affect your liver's ability to function.\", 'Osteoarthristis': 'Osteoarthritis is the most common form of arthritis, affecting millions of people worldwide. It occurs when the protective cartilage that cushions the ends of your bones wears down over time.', '(vertigo) Paroymsal  Positional Vertigo': \"Benign paroxysmal positional vertigo (BPPV) is one of the most common causes of vertigo — the sudden sensation that you're spinning or that the inside of your head is spinning. Benign paroxysmal positional vertigo causes brief episodes of mild to intense dizziness.\", 'Hypoglycemia': \" Hypoglycemia is a condition in which your blood sugar (glucose) level is lower than normal. Glucose is your body's main energy source. Hypoglycemia is often related to diabetes treatment. But other drugs and a variety of conditions — many rare — can cause low blood sugar in people who don't have diabetes.\", 'Acne': 'Acne vulgaris is the formation of comedones, papules, pustules, nodules, and/or cysts as a result of obstruction and inflammation of pilosebaceous units (hair follicles and their accompanying sebaceous gland). Acne develops on the face and upper trunk. It most often affects adolescents.', 'Diabetes': 'Diabetes is a disease that occurs when your blood glucose, also called blood sugar, is too high. Blood glucose is your main source of energy and comes from the food you eat. Insulin, a hormone made by the pancreas, helps glucose from food get into your cells to be used for energy.', 'Impetigo': \"Impetigo (im-puh-TIE-go) is a common and highly contagious skin infection that mainly affects infants and children. Impetigo usually appears as red sores on the face, especially around a child's nose and mouth, and on hands and feet. The sores burst and develop honey-colored crusts.\", 'Hypertension': 'Hypertension (HTN or HT), also known as high blood pressure (HBP), is a long-term medical condition in which the blood pressure in the arteries is persistently elevated. High blood pressure typically does not cause symptoms.', 'Peptic ulcer diseae': 'Peptic ulcer disease (PUD) is a break in the inner lining of the stomach, the first part of the small intestine, or sometimes the lower esophagus. An ulcer in the stomach is called a gastric ulcer, while one in the first part of the intestines is a duodenal ulcer.', 'Dimorphic hemorrhoids(piles)': 'Hemorrhoids, also spelled haemorrhoids, are vascular structures in the anal canal. In their ... Other names, Haemorrhoids, piles, hemorrhoidal disease .', 'Common Cold': \"The common cold is a viral infection of your nose and throat (upper respiratory tract). It's usually harmless, although it might not feel that way. Many types of viruses can cause a common cold.\", 'Chicken pox': 'Chickenpox is a highly contagious disease caused by the varicella-zoster virus (VZV). It can cause an itchy, blister-like rash. The rash first appears on the chest, back, and face, and then spreads over the entire body, causing between 250 and 500 itchy blisters.', 'Cervical spondylosis': 'Cervical spondylosis is a general term for age-related wear and tear affecting the spinal disks in your neck. As the disks dehydrate and shrink, signs of osteoarthritis develop, including bony projections along the edges of bones (bone spurs).', 'Hyperthyroidism': \"Hyperthyroidism (overactive thyroid) occurs when your thyroid gland produces too much of the hormone thyroxine. Hyperthyroidism can accelerate your body's metabolism, causing unintentional weight loss and a rapid or irregular heartbeat.\", 'Urinary tract infection': 'Urinary tract infection: An infection of the kidney, ureter, bladder, or urethra. Abbreviated UTI. Not everyone with a UTI has symptoms, but common symptoms include a frequent urge to urinate and pain or burning when urinating.', 'Varicose veins': 'A vein that has enlarged and twisted, often appearing as a bulging, blue blood vessel that is clearly visible through the skin. Varicose veins are most common in older adults, particularly women, and occur especially on the legs.', 'AIDS': \"Acquired immunodeficiency syndrome (AIDS) is a chronic, potentially life-threatening condition caused by the human immunodeficiency virus (HIV). By damaging your immune system, HIV interferes with your body's ability to fight infection and disease.\", 'Paralysis (brain hemorrhage)': 'Intracerebral hemorrhage (ICH) is when blood suddenly bursts into brain tissue, causing damage to your brain. Symptoms usually appear suddenly during ICH. They include headache, weakness, confusion, and paralysis, particularly on one side of your body.', 'Typhoid': 'An acute illness characterized by fever caused by infection with the bacterium Salmonella typhi. Typhoid fever has an insidious onset, with fever, headache, constipation, malaise, chills, and muscle pain. Diarrhea is uncommon, and vomiting is not usually severe.', 'Hepatitis B': \"Hepatitis B is an infection of your liver. It can cause scarring of the organ, liver failure, and cancer. It can be fatal if it isn't treated. It's spread when people come in contact with the blood, open sores, or body fluids of someone who has the hepatitis B virus.\", 'Fungal infection': 'In humans, fungal infections occur when an invading fungus takes over an area of the body and is too much for the immune system to handle. Fungi can live in the air, soil, water, and plants. There are also some fungi that live naturally in the human body. Like many microbes, there are helpful fungi and harmful fungi.', 'Hepatitis C': 'Inflammation of the liver due to the hepatitis C virus (HCV), which is usually spread via blood transfusion (rare), hemodialysis, and needle sticks. The damage hepatitis C does to the liver can lead to cirrhosis and its complications as well as cancer.', 'Migraine': \"A migraine can cause severe throbbing pain or a pulsing sensation, usually on one side of the head. It's often accompanied by nausea, vomiting, and extreme sensitivity to light and sound. Migraine attacks can last for hours to days, and the pain can be so severe that it interferes with your daily activities.\", 'Bronchial Asthma': 'Bronchial asthma is a medical condition which causes the airway path of the lungs to swell and narrow. Due to this swelling, the air path produces excess mucus making it hard to breathe, which results in coughing, short breath, and wheezing. The disease is chronic and interferes with daily working.', 'Alcoholic hepatitis': \"Alcoholic hepatitis is a diseased, inflammatory condition of the liver caused by heavy alcohol consumption over an extended period of time. It's also aggravated by binge drinking and ongoing alcohol use. If you develop this condition, you must stop drinking alcohol\", 'Jaundice': 'Yellow staining of the skin and sclerae (the whites of the eyes) by abnormally high blood levels of the bile pigment bilirubin. The yellowing extends to other tissues and body fluids. Jaundice was once called the \"morbus regius\" (the regal disease) in the belief that only the touch of a king could cure it', 'Hepatitis E': 'A rare form of liver inflammation caused by infection with the hepatitis E virus (HEV). It is transmitted via food or drink handled by an infected person or through infected water supplies in areas where fecal matter may get into the water. Hepatitis E does not cause chronic liver disease.', 'Dengue': 'an acute infectious disease caused by a flavivirus (species Dengue virus of the genus Flavivirus), transmitted by aedes mosquitoes, and characterized by headache, severe joint pain, and a rash. — called also breakbone fever, dengue fever.', 'Hepatitis D': 'Hepatitis D, also known as the hepatitis delta virus, is an infection that causes the liver to become inflamed. This swelling can impair liver function and cause long-term liver problems, including liver scarring and cancer. The condition is caused by the hepatitis D virus (HDV).', 'Heart attack': 'The death of heart muscle due to the loss of blood supply. The loss of blood supply is usually caused by a complete blockage of a coronary artery, one of the arteries that supplies blood to the heart muscle.', 'Pneumonia': 'Pneumonia is an infection in one or both lungs. Bacteria, viruses, and fungi cause it. The infection causes inflammation in the air sacs in your lungs, which are called alveoli. The alveoli fill with fluid or pus, making it difficult to breathe.', 'Arthritis': 'Arthritis is the swelling and tenderness of one or more of your joints. The main symptoms of arthritis are joint pain and stiffness, which typically worsen with age. The most common types of arthritis are osteoarthritis and rheumatoid arthritis.', 'Gastroenteritis': 'Gastroenteritis is an inflammation of the digestive tract, particularly the stomach, and large and small intestines. Viral and bacterial gastroenteritis are intestinal infections associated with symptoms of diarrhea , abdominal cramps, nausea , and vomiting .', 'Tuberculosis': 'Tuberculosis (TB) is an infectious disease usually caused by Mycobacterium tuberculosis (MTB) bacteria. Tuberculosis generally affects the lungs, but can also affect other parts of the body. Most infections show no symptoms, in which case it is known as latent tuberculosis.'}\n"
     ]
    }
   ],
   "source": [
    "print(desc)"
   ]
  },
  {
   "cell_type": "code",
   "execution_count": 35,
   "metadata": {},
   "outputs": [],
   "source": [
    "dff=pd.read_csv('./symptom_precaution.csv')\n",
    "for i in range(len(dff['Precaution_4'])):\n",
    "    if pd.isna(dff['Precaution_4'][i]):\n",
    "        dff['Precaution_4'][i]=\"Exercise and be physically fit\"\n",
    "        dff['Precaution_3'][i]=\"Keep check and control the cholesterol levels\"\n",
    "        dff['Precaution_1'][i]=\"Manage Stress\"\n",
    "        dff['Precaution_2'][i]=\"Get proper sleep\"\n",
    "    else:\n",
    "        s=dff['Precaution_4'][i]\n",
    "        s=s[0].upper()+s[1:]\n",
    "        dff['Precaution_4'][i]=s\n",
    "        s=dff['Precaution_3'][i]\n",
    "        s=s[0].upper()+s[1:]\n",
    "        dff['Precaution_3'][i]=s\n",
    "        s=dff['Precaution_2'][i]\n",
    "        s=s[0].upper()+s[1:]\n",
    "        dff['Precaution_2'][i]=s\n",
    "        s=dff['Precaution_1'][i]\n",
    "        s=s[0].upper()+s[1:]\n",
    "        dff['Precaution_1'][i]=s   "
   ]
  },
  {
   "cell_type": "code",
   "execution_count": 36,
   "metadata": {},
   "outputs": [],
   "source": [
    "pre1={}\n",
    "pre2={}\n",
    "pre3={}\n",
    "pre4={}\n",
    "for i in range(0,len(dff)):\n",
    "    pre1[dff['Disease'][i]]=dff['Precaution_1'][i]\n",
    "    pre2[dff['Disease'][i]]=dff['Precaution_2'][i]\n",
    "    pre3[dff['Disease'][i]]=dff['Precaution_3'][i]\n",
    "    pre4[dff['Disease'][i]]=dff['Precaution_4'][i]"
   ]
  },
  {
   "cell_type": "code",
   "execution_count": 23,
   "metadata": {},
   "outputs": [
    {
     "data": {
      "text/plain": [
       "['rfc.pkl']"
      ]
     },
     "execution_count": 23,
     "metadata": {},
     "output_type": "execute_result"
    }
   ],
   "source": [
    "import joblib\n",
    "joblib.dump(rfc,'rfc.pkl')"
   ]
  },
  {
   "cell_type": "code",
   "execution_count": 40,
   "metadata": {},
   "outputs": [
    {
     "name": "stdout",
     "output_type": "stream",
     "text": [
      "{'Drug Reaction': 'Follow up', 'Malaria': 'Keep mosquitos out', 'Allergy': 'Use ice to compress itching', 'Hypothyroidism': 'Get proper sleep', 'Psoriasis': 'Salt baths', 'GERD': 'Exercise', 'Chronic cholestasis': 'Eat healthy', 'hepatitis A': 'Medication', 'Osteoarthristis': 'Salt baths', '(vertigo) Paroymsal  Positional Vertigo': 'Relax', 'Hypoglycemia': 'Consult doctor', 'Acne': 'Avoid too many products', 'Diabetes ': 'Follow up', 'Impetigo': 'Consult doctor', 'Hypertension ': 'Get proper sleep', 'Peptic ulcer diseae': 'Limit alcohol', 'Dimorphic hemmorhoids(piles)': 'Consume alovera juice', 'Common Cold': 'Keep fever in check', 'Chicken pox': 'Avoid public places', 'Cervical spondylosis': 'Consult doctor', 'Hyperthyroidism': 'Take radioactive iodine treatment', 'Urinary tract infection': 'Take probiotics', 'Varicose veins': 'Dont stand still for long', 'AIDS': 'Follow up', 'Paralysis (brain hemorrhage)': 'Consult doctor', 'Typhoid': 'Medication', 'Hepatitis B': 'Medication', 'Fungal infection': 'Use clean cloths', 'Hepatitis C': 'Medication', 'Migraine': 'Consult doctor', 'Bronchial Asthma': 'Seek help', 'Alcoholic hepatitis': 'Follow up', 'Jaundice': 'Medication', 'Hepatitis E': 'Medication', 'Dengue': 'Keep hydrated', 'Hepatitis D': 'Follow up', 'Heart attack': 'Exercise and be physically fit', 'Pneumonia': 'Follow up', 'Arthritis': 'Massage', 'Gastroenteritis': 'Ease back into eating', 'Tuberculosis': 'Rest'}\n"
     ]
    }
   ],
   "source": [
    "print(pre4)"
   ]
  },
  {
   "cell_type": "code",
   "execution_count": null,
   "metadata": {},
   "outputs": [],
   "source": []
  },
  {
   "cell_type": "code",
   "execution_count": null,
   "metadata": {},
   "outputs": [],
   "source": []
  },
  {
   "cell_type": "code",
   "execution_count": null,
   "metadata": {},
   "outputs": [],
   "source": []
  },
  {
   "cell_type": "code",
   "execution_count": null,
   "metadata": {},
   "outputs": [],
   "source": []
  },
  {
   "cell_type": "code",
   "execution_count": null,
   "metadata": {},
   "outputs": [],
   "source": []
  },
  {
   "cell_type": "code",
   "execution_count": null,
   "metadata": {},
   "outputs": [],
   "source": []
  },
  {
   "cell_type": "code",
   "execution_count": null,
   "metadata": {},
   "outputs": [],
   "source": []
  },
  {
   "cell_type": "code",
   "execution_count": null,
   "metadata": {},
   "outputs": [],
   "source": []
  },
  {
   "cell_type": "code",
   "execution_count": null,
   "metadata": {},
   "outputs": [],
   "source": []
  }
 ],
 "metadata": {
  "kernelspec": {
   "display_name": "Python 3",
   "language": "python",
   "name": "python3"
  },
  "language_info": {
   "codemirror_mode": {
    "name": "ipython",
    "version": 3
   },
   "file_extension": ".py",
   "mimetype": "text/x-python",
   "name": "python",
   "nbconvert_exporter": "python",
   "pygments_lexer": "ipython3",
   "version": "3.8.3"
  }
 },
 "nbformat": 4,
 "nbformat_minor": 4
}
